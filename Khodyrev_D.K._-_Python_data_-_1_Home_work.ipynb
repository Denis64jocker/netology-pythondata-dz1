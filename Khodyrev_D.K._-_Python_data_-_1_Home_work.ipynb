{
 "cells": [
  {
   "cell_type": "markdown",
   "metadata": {},
   "source": [
    "**Задание 1**. Даны 2 строки: *long_phrase* и *short_phrase*. \n",
    "Напишите код, который проверяет действительно ли длинная фраза *long_phrase* длиннее короткой *short_phrase*. И выводит *True* или *False* в зависимости от результата сравнения."
   ]
  },
  {
   "cell_type": "code",
   "execution_count": 1,
   "metadata": {},
   "outputs": [],
   "source": [
    "long_phrase = 'Насколько проще было бы писать программы, если бы не заказчики'\n",
    "short_phrase = '640Кб должно хватить для любых задач. Билл Гейтс (по легенде)'"
   ]
  },
  {
   "cell_type": "code",
   "execution_count": 4,
   "metadata": {},
   "outputs": [
    {
     "data": {
      "text/plain": [
       "True"
      ]
     },
     "execution_count": 4,
     "metadata": {},
     "output_type": "execute_result"
    }
   ],
   "source": [
    "long_phrase > short_phrase"
   ]
  },
  {
   "cell_type": "markdown",
   "metadata": {},
   "source": [
    "**Задание 2**. Дано значение объема файла в байтах. Напишите перевод этого значения в мегабайты в формате: \"*Объем файла равен 213.68Mb*\""
   ]
  },
  {
   "cell_type": "code",
   "execution_count": 16,
   "metadata": {},
   "outputs": [
    {
     "name": "stdout",
     "output_type": "stream",
     "text": [
      "Значение объема файла в байтах 1048576\n",
      "1.0\n"
     ]
    }
   ],
   "source": [
    "volume = input('Значение объема файла в байтах ')\n",
    "volume = int(volume)\n",
    "print(volume / 1048576)"
   ]
  },
  {
   "cell_type": "markdown",
   "metadata": {},
   "source": [
    "**Задание 3**. Разработать приложение для определения знака зодиака по дате рождения. Пример:\n",
    "\n",
    "Введите месяц: март\n",
    "\n",
    "Введите число: 6\n",
    "\n",
    "Вывод:\n",
    "Рыбы"
   ]
  },
  {
   "cell_type": "code",
   "execution_count": 28,
   "metadata": {},
   "outputs": [
    {
     "name": "stdout",
     "output_type": "stream",
     "text": [
      "Введите месяц: март\n",
      "Введите число: 4\n",
      "рыбы\n"
     ]
    }
   ],
   "source": [
    "month = input('Введите месяц: ')\n",
    "data = input('Введите число: ')\n",
    "data = int(data)\n",
    "\n",
    "if month == 'январь' and data < 20:\n",
    "   znak = 'козерог'\n",
    "elif month == 'январь' and data >= 20:\n",
    "    znak = 'водолей'\n",
    "    \n",
    "elif month == 'февраль' and data < 20:\n",
    "   znak = 'водолей'\n",
    "elif month == 'февраль' and data >= 20:\n",
    "   znak = 'рыбы'\n",
    "\n",
    "elif month == 'март' and data < 20:\n",
    "   znak = 'рыбы'\n",
    "elif month == 'март' and data >= 20:\n",
    "   znak = 'овен'\n",
    "\n",
    "elif month == 'апрель' and data < 20:\n",
    "   znak = 'овен'\n",
    "elif month == 'апрель' and data >= 20:\n",
    "   znak = 'телец'\n",
    "\n",
    "elif month == 'май' and data < 20:\n",
    "   znak = 'телец'\n",
    "elif month == 'май' and data >= 20:\n",
    "   znak = 'близнецы'\n",
    "\n",
    "elif month == 'июнь' and data < 20:\n",
    "   znak = 'близнецы'\n",
    "elif month == 'июнь' and data >= 20:\n",
    "   znak = 'рак'\n",
    "\n",
    "elif month == 'июль' and data < 20:\n",
    "   znak = 'рак'\n",
    "elif month == 'июль' and data >= 20:\n",
    "   znak = 'лев'\n",
    "\n",
    "elif month == 'август' and data < 20:\n",
    "   znak = 'лев'\n",
    "elif month == 'август' and data >= 20:\n",
    "   znak = 'дева'\n",
    "\n",
    "elif month == 'сентябрь' and data < 20:\n",
    "   znak = 'дева'\n",
    "elif month == 'сентябрь' and data >= 20:\n",
    "   znak = 'весы'\n",
    "\n",
    "elif month == 'октябрь' and data < 20:\n",
    "   znak = 'весы'\n",
    "elif month == 'октябрь' and data >= 20:\n",
    "   znak = 'скорпион'\n",
    "\n",
    "elif month == 'ноябрь' and data < 20:\n",
    "   znak = 'скорпион'\n",
    "elif month == 'ноябрь' and data >= 20:\n",
    "   znak = 'стрелец'\n",
    "\n",
    "elif month == 'декабрь' and data < 20:\n",
    "   znak = 'стрелец'\n",
    "else:\n",
    "   znak = 'Козерог'\n",
    "\n",
    "print(znak)"
   ]
  },
  {
   "cell_type": "markdown",
   "metadata": {},
   "source": [
    "**Задание 4**. Нужно разработать приложение для финансового планирования.\n",
    "Приложение учитывает сколько уходит на ипотеку, \"на жизнь\" и сколько нужно отложить на пенсию.\n",
    "Пользователь вводит:\n",
    "- заработанную плату в месяц.\n",
    "- сколько процентов от ЗП уходит на ипотеку.\n",
    "- сколько процентов от ЗП уходит \"на жизнь\".\n",
    "- сколько раз приходит премия в год.\n",
    "\n",
    "Остальная часть заработанной платы откладывается на пенсию.\n",
    "\n",
    "Также пользователю приходит премия в размере зарплаты, от которой половина уходит на отпуск, а вторая половина откладывается.\n",
    "\n",
    "Программа должна учитывать сколько премий было в год.\n",
    "\n",
    "Нужно вывести сколько денег тратит пользователь на ипотеку и сколько он накопит за год.\n",
    "\n",
    "Пример:\n",
    "\n",
    "Введите заработанную плату в месяц: 100000\n",
    "\n",
    "Введите сколько процентов уходит на ипотеку: 30\n",
    "\n",
    "Введите сколько процентов уходит на жизнь: 50\n",
    "\n",
    "Введите количество премий за год: 2\n",
    "\n",
    "Вывод:\n",
    "На ипотеку было потрачено: 360000 рублей\n",
    "Было накоплено: 340000 рублей"
   ]
  },
  {
   "cell_type": "code",
   "execution_count": 30,
   "metadata": {},
   "outputs": [
    {
     "name": "stdout",
     "output_type": "stream",
     "text": [
      "Введите заработанную плату в месяц: 50000\n",
      "Введите сколько процентов от ЗП уходит на ипотеку: 10\n",
      "Введите сколько процентов от ЗП уходит \"на жизнь\": 10\n",
      "Введите сколько раз приходит премия в год: 1\n",
      "505000.0\n"
     ]
    }
   ],
   "source": [
    "zp = input('Введите заработанную плату в месяц: ')\n",
    "prip = input('Введите сколько процентов от ЗП уходит на ипотеку: ')\n",
    "prlive = input('Введите сколько процентов от ЗП уходит \"на жизнь\": ')\n",
    "premia = input('Введите сколько раз приходит премия в год: ')\n",
    "\n",
    "zp = int(zp)\n",
    "prip = int(prip)\n",
    "prlive = int(prlive)\n",
    "premia = int(premia)\n",
    "\n",
    "pensia = (zp * 12 + premia * zp) - (premia * zp / 2 + zp * 12 * (prip + prlive) / 100)\n",
    "\n",
    "print(pensia)"
   ]
  },
  {
   "cell_type": "code",
   "execution_count": null,
   "metadata": {},
   "outputs": [],
   "source": []
  }
 ],
 "metadata": {
  "kernelspec": {
   "display_name": "Python 3",
   "language": "python",
   "name": "python3"
  },
  "language_info": {
   "codemirror_mode": {
    "name": "ipython",
    "version": 3
   },
   "file_extension": ".py",
   "mimetype": "text/x-python",
   "name": "python",
   "nbconvert_exporter": "python",
   "pygments_lexer": "ipython3",
   "version": "3.7.4"
  }
 },
 "nbformat": 4,
 "nbformat_minor": 2
}
